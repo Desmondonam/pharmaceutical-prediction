{
 "cells": [
  {
   "cell_type": "markdown",
   "id": "a87fbc74",
   "metadata": {},
   "source": [
    "## importing the modules and the setup"
   ]
  },
  {
   "cell_type": "code",
   "execution_count": 1,
   "id": "233264af",
   "metadata": {},
   "outputs": [],
   "source": [
    "# Pandas - Data manipulation and analysis library\n",
    "import pandas as pd\n",
    "# NumPy - mathematical functions on multi-dimensional arrays and matrices\n",
    "import numpy as np\n",
    "# Matplotlib - plotting library to create graphs and charts\n",
    "import matplotlib.pyplot as plt\n",
    "# Re - regular expression module for Python\n",
    "import re\n",
    "# Calendar - Python functions related to the calendar\n",
    "import calendar\n",
    "\n",
    "# Manipulating dates and times for Python\n",
    "from datetime import datetime\n",
    "\n",
    "# Scikit-learn algorithms and functions\n",
    "from sklearn import linear_model\n",
    "from sklearn.cluster import KMeans\n",
    "from sklearn.decomposition import PCA\n",
    "from sklearn.model_selection import train_test_split\n",
    "from sklearn.preprocessing import StandardScaler\n",
    "from sklearn.preprocessing import PolynomialFeatures\n",
    "from sklearn.svm import SVR\n",
    "from sklearn.ensemble import VotingRegressor\n",
    "\n",
    "# Settings for Matplotlib graphs and charts\n",
    "from pylab import rcParams\n",
    "rcParams['figure.figsize'] = 12, 8\n",
    "\n",
    "# Display Matplotlib output inline\n",
    "%matplotlib inline\n",
    "\n",
    "# Additional configuration\n",
    "np.set_printoptions(precision=2)"
   ]
  },
  {
   "cell_type": "markdown",
   "id": "7f3e6b1f",
   "metadata": {},
   "source": [
    "## Loading the data and viewing it "
   ]
  },
  {
   "cell_type": "code",
   "execution_count": 5,
   "id": "5f2a2d93",
   "metadata": {},
   "outputs": [
    {
     "data": {
      "text/html": [
       "<div>\n",
       "<style scoped>\n",
       "    .dataframe tbody tr th:only-of-type {\n",
       "        vertical-align: middle;\n",
       "    }\n",
       "\n",
       "    .dataframe tbody tr th {\n",
       "        vertical-align: top;\n",
       "    }\n",
       "\n",
       "    .dataframe thead th {\n",
       "        text-align: right;\n",
       "    }\n",
       "</style>\n",
       "<table border=\"1\" class=\"dataframe\">\n",
       "  <thead>\n",
       "    <tr style=\"text-align: right;\">\n",
       "      <th></th>\n",
       "      <th>datum</th>\n",
       "      <th>M01AB</th>\n",
       "      <th>M01AE</th>\n",
       "      <th>N02BA</th>\n",
       "      <th>N02BE</th>\n",
       "      <th>N05B</th>\n",
       "      <th>N05C</th>\n",
       "      <th>R03</th>\n",
       "      <th>R06</th>\n",
       "      <th>Year</th>\n",
       "      <th>Month</th>\n",
       "      <th>Hour</th>\n",
       "      <th>Weekday Name</th>\n",
       "    </tr>\n",
       "  </thead>\n",
       "  <tbody>\n",
       "    <tr>\n",
       "      <th>0</th>\n",
       "      <td>1/2/2014</td>\n",
       "      <td>0.0</td>\n",
       "      <td>3.67</td>\n",
       "      <td>3.4</td>\n",
       "      <td>32.40</td>\n",
       "      <td>7.0</td>\n",
       "      <td>0.0</td>\n",
       "      <td>0.0</td>\n",
       "      <td>2.0</td>\n",
       "      <td>2014</td>\n",
       "      <td>1</td>\n",
       "      <td>248</td>\n",
       "      <td>Thursday</td>\n",
       "    </tr>\n",
       "    <tr>\n",
       "      <th>1</th>\n",
       "      <td>1/3/2014</td>\n",
       "      <td>8.0</td>\n",
       "      <td>4.00</td>\n",
       "      <td>4.4</td>\n",
       "      <td>50.60</td>\n",
       "      <td>16.0</td>\n",
       "      <td>0.0</td>\n",
       "      <td>20.0</td>\n",
       "      <td>4.0</td>\n",
       "      <td>2014</td>\n",
       "      <td>1</td>\n",
       "      <td>276</td>\n",
       "      <td>Friday</td>\n",
       "    </tr>\n",
       "    <tr>\n",
       "      <th>2</th>\n",
       "      <td>1/4/2014</td>\n",
       "      <td>2.0</td>\n",
       "      <td>1.00</td>\n",
       "      <td>6.5</td>\n",
       "      <td>61.85</td>\n",
       "      <td>10.0</td>\n",
       "      <td>0.0</td>\n",
       "      <td>9.0</td>\n",
       "      <td>1.0</td>\n",
       "      <td>2014</td>\n",
       "      <td>1</td>\n",
       "      <td>276</td>\n",
       "      <td>Saturday</td>\n",
       "    </tr>\n",
       "    <tr>\n",
       "      <th>3</th>\n",
       "      <td>1/5/2014</td>\n",
       "      <td>4.0</td>\n",
       "      <td>3.00</td>\n",
       "      <td>7.0</td>\n",
       "      <td>41.10</td>\n",
       "      <td>8.0</td>\n",
       "      <td>0.0</td>\n",
       "      <td>3.0</td>\n",
       "      <td>0.0</td>\n",
       "      <td>2014</td>\n",
       "      <td>1</td>\n",
       "      <td>276</td>\n",
       "      <td>Sunday</td>\n",
       "    </tr>\n",
       "    <tr>\n",
       "      <th>4</th>\n",
       "      <td>1/6/2014</td>\n",
       "      <td>5.0</td>\n",
       "      <td>1.00</td>\n",
       "      <td>4.5</td>\n",
       "      <td>21.70</td>\n",
       "      <td>16.0</td>\n",
       "      <td>2.0</td>\n",
       "      <td>6.0</td>\n",
       "      <td>2.0</td>\n",
       "      <td>2014</td>\n",
       "      <td>1</td>\n",
       "      <td>276</td>\n",
       "      <td>Monday</td>\n",
       "    </tr>\n",
       "  </tbody>\n",
       "</table>\n",
       "</div>"
      ],
      "text/plain": [
       "      datum  M01AB  M01AE  N02BA  N02BE  N05B  N05C   R03  R06  Year  Month  \\\n",
       "0  1/2/2014    0.0   3.67    3.4  32.40   7.0   0.0   0.0  2.0  2014      1   \n",
       "1  1/3/2014    8.0   4.00    4.4  50.60  16.0   0.0  20.0  4.0  2014      1   \n",
       "2  1/4/2014    2.0   1.00    6.5  61.85  10.0   0.0   9.0  1.0  2014      1   \n",
       "3  1/5/2014    4.0   3.00    7.0  41.10   8.0   0.0   3.0  0.0  2014      1   \n",
       "4  1/6/2014    5.0   1.00    4.5  21.70  16.0   2.0   6.0  2.0  2014      1   \n",
       "\n",
       "   Hour Weekday Name  \n",
       "0   248     Thursday  \n",
       "1   276       Friday  \n",
       "2   276     Saturday  \n",
       "3   276       Sunday  \n",
       "4   276       Monday  "
      ]
     },
     "execution_count": 5,
     "metadata": {},
     "output_type": "execute_result"
    }
   ],
   "source": [
    "# Loading our sales daily data set from csv file using Pandas.\n",
    "df = pd.read_csv(\"D:/pharmaceutical-prediction/data/salesdaily.csv\")\n",
    "\n",
    "# Let's look at the data.\n",
    "df.head()"
   ]
  },
  {
   "cell_type": "markdown",
   "id": "22bd20bc",
   "metadata": {},
   "source": [
    "## group the drug sales name with the weeday name"
   ]
  },
  {
   "cell_type": "code",
   "execution_count": 6,
   "id": "bf775288",
   "metadata": {},
   "outputs": [],
   "source": [
    "df = df[['M01AE', 'Weekday Name']]\n",
    "result = df.groupby(['Weekday Name'], as_index=False).sum().sort_values('M01AE', ascending=False)\n"
   ]
  },
  {
   "cell_type": "code",
   "execution_count": 7,
   "id": "f91c5a17",
   "metadata": {},
   "outputs": [],
   "source": [
    "resultDay = result.iloc[0,0]\n",
    "resultValue = round(result.iloc[0,1], 2)"
   ]
  },
  {
   "cell_type": "code",
   "execution_count": 8,
   "id": "fb1ea9c3",
   "metadata": {},
   "outputs": [
    {
     "name": "stdout",
     "output_type": "stream",
     "text": [
      "The second drug, M01AE, was most often sold on Sunday\n",
      "with the volume of 1384.94\n"
     ]
    }
   ],
   "source": [
    "print('The second drug, M01AE, was most often sold on ' + str(resultDay))\n",
    "print('with the volume of ' + str(resultValue))"
   ]
  },
  {
   "cell_type": "markdown",
   "id": "ce79f3d7",
   "metadata": {},
   "source": [
    "## Drugs with the highest sales"
   ]
  },
  {
   "cell_type": "code",
   "execution_count": 10,
   "id": "68346164",
   "metadata": {},
   "outputs": [
    {
     "data": {
      "text/html": [
       "<div>\n",
       "<style scoped>\n",
       "    .dataframe tbody tr th:only-of-type {\n",
       "        vertical-align: middle;\n",
       "    }\n",
       "\n",
       "    .dataframe tbody tr th {\n",
       "        vertical-align: top;\n",
       "    }\n",
       "\n",
       "    .dataframe thead th {\n",
       "        text-align: right;\n",
       "    }\n",
       "</style>\n",
       "<table border=\"1\" class=\"dataframe\">\n",
       "  <thead>\n",
       "    <tr style=\"text-align: right;\">\n",
       "      <th></th>\n",
       "      <th>datum</th>\n",
       "      <th>M01AB</th>\n",
       "      <th>M01AE</th>\n",
       "      <th>N02BA</th>\n",
       "      <th>N02BE</th>\n",
       "      <th>N05B</th>\n",
       "      <th>N05C</th>\n",
       "      <th>R03</th>\n",
       "      <th>R06</th>\n",
       "    </tr>\n",
       "  </thead>\n",
       "  <tbody>\n",
       "    <tr>\n",
       "      <th>0</th>\n",
       "      <td>2014-01-31</td>\n",
       "      <td>127.69</td>\n",
       "      <td>99.090</td>\n",
       "      <td>152.100</td>\n",
       "      <td>878.030</td>\n",
       "      <td>354.0</td>\n",
       "      <td>50.0</td>\n",
       "      <td>112.0</td>\n",
       "      <td>48.2</td>\n",
       "    </tr>\n",
       "    <tr>\n",
       "      <th>1</th>\n",
       "      <td>2014-02-28</td>\n",
       "      <td>133.32</td>\n",
       "      <td>126.050</td>\n",
       "      <td>177.000</td>\n",
       "      <td>1001.900</td>\n",
       "      <td>347.0</td>\n",
       "      <td>31.0</td>\n",
       "      <td>122.0</td>\n",
       "      <td>36.2</td>\n",
       "    </tr>\n",
       "    <tr>\n",
       "      <th>2</th>\n",
       "      <td>2014-03-31</td>\n",
       "      <td>137.44</td>\n",
       "      <td>92.950</td>\n",
       "      <td>147.655</td>\n",
       "      <td>779.275</td>\n",
       "      <td>232.0</td>\n",
       "      <td>20.0</td>\n",
       "      <td>112.0</td>\n",
       "      <td>85.4</td>\n",
       "    </tr>\n",
       "    <tr>\n",
       "      <th>3</th>\n",
       "      <td>2014-04-30</td>\n",
       "      <td>113.10</td>\n",
       "      <td>89.475</td>\n",
       "      <td>130.900</td>\n",
       "      <td>698.500</td>\n",
       "      <td>209.0</td>\n",
       "      <td>18.0</td>\n",
       "      <td>97.0</td>\n",
       "      <td>73.7</td>\n",
       "    </tr>\n",
       "    <tr>\n",
       "      <th>4</th>\n",
       "      <td>2014-05-31</td>\n",
       "      <td>101.79</td>\n",
       "      <td>119.933</td>\n",
       "      <td>132.100</td>\n",
       "      <td>628.780</td>\n",
       "      <td>270.0</td>\n",
       "      <td>23.0</td>\n",
       "      <td>107.0</td>\n",
       "      <td>123.7</td>\n",
       "    </tr>\n",
       "  </tbody>\n",
       "</table>\n",
       "</div>"
      ],
      "text/plain": [
       "        datum   M01AB    M01AE    N02BA     N02BE   N05B  N05C    R03    R06\n",
       "0  2014-01-31  127.69   99.090  152.100   878.030  354.0  50.0  112.0   48.2\n",
       "1  2014-02-28  133.32  126.050  177.000  1001.900  347.0  31.0  122.0   36.2\n",
       "2  2014-03-31  137.44   92.950  147.655   779.275  232.0  20.0  112.0   85.4\n",
       "3  2014-04-30  113.10   89.475  130.900   698.500  209.0  18.0   97.0   73.7\n",
       "4  2014-05-31  101.79  119.933  132.100   628.780  270.0  23.0  107.0  123.7"
      ]
     },
     "execution_count": 10,
     "metadata": {},
     "output_type": "execute_result"
    }
   ],
   "source": [
    "df = pd.read_csv(\"D:/pharmaceutical-prediction/data/salesmonthly.csv\")\n",
    "df.head()"
   ]
  },
  {
   "cell_type": "code",
   "execution_count": 11,
   "id": "40dfadf6",
   "metadata": {},
   "outputs": [],
   "source": [
    "def top3byMonth(month, year):\n",
    "    \"\"\"\n",
    "    given a month and a year\n",
    "    find top 3 drugs sold\n",
    "    \"\"\"\n",
    "    month = str(month) if (month > 9) else '0'+str(month)\n",
    "    year = str(year)\n",
    "    # filter by date\n",
    "    sales = df.loc[df['datum'].str.contains('^'+year+'\\-'+month+'', flags=re.I, regex=True)]\n",
    "    # reset index\n",
    "    sales = sales.reset_index()\n",
    "    # filter relevant columns\n",
    "    topSales = sales[['M01AB', 'M01AE', 'N02BA', 'N02BE', 'N05B', 'N05C', 'R03', 'R06']]\n",
    "    # sort values horizontally\n",
    "    topSales = topSales.sort_values(by=0, ascending=False, axis=1)\n",
    "    # print results\n",
    "    print('Top 3 drugs by sale in '+calendar.month_name[int(month)]+' '+year)\n",
    "    for field in topSales.columns.values[0:3]:\n",
    "        print(' - Product: ' + str(field) + ', Volume sold: ' + str(round(topSales[field].iloc[0], 2)))\n",
    "    print(\"\\n\")"
   ]
  },
  {
   "cell_type": "code",
   "execution_count": 12,
   "id": "f1841a85",
   "metadata": {},
   "outputs": [
    {
     "name": "stdout",
     "output_type": "stream",
     "text": [
      "Top 3 drugs by sale in January 2015\n",
      " - Product: N02BE, Volume sold: 1044.24\n",
      " - Product: N05B, Volume sold: 463.0\n",
      " - Product: R03, Volume sold: 177.25\n",
      "\n",
      "\n",
      "Top 3 drugs by sale in July 2016\n",
      " - Product: N02BE, Volume sold: 652.36\n",
      " - Product: N05B, Volume sold: 240.0\n",
      " - Product: M01AB, Volume sold: 203.97\n",
      "\n",
      "\n",
      "Top 3 drugs by sale in September 2017\n",
      " - Product: N02BE, Volume sold: 863.75\n",
      " - Product: N05B, Volume sold: 223.0\n",
      " - Product: R03, Volume sold: 139.0\n",
      "\n",
      "\n"
     ]
    }
   ],
   "source": [
    "# top3 drugs by sale in January 2015\n",
    "top3byMonth(1, 2015)\n",
    "\n",
    "# top3 drugs by sale in July 2016\n",
    "top3byMonth(7, 2016)\n",
    "\n",
    "# top3 drugs by sale in September 2017\n",
    "top3byMonth(9, 2017)"
   ]
  },
  {
   "cell_type": "markdown",
   "id": "e7358b66",
   "metadata": {},
   "source": [
    "## Drugs sold most often on Monday"
   ]
  },
  {
   "cell_type": "code",
   "execution_count": 14,
   "id": "fbabde11",
   "metadata": {},
   "outputs": [
    {
     "data": {
      "text/html": [
       "<div>\n",
       "<style scoped>\n",
       "    .dataframe tbody tr th:only-of-type {\n",
       "        vertical-align: middle;\n",
       "    }\n",
       "\n",
       "    .dataframe tbody tr th {\n",
       "        vertical-align: top;\n",
       "    }\n",
       "\n",
       "    .dataframe thead th {\n",
       "        text-align: right;\n",
       "    }\n",
       "</style>\n",
       "<table border=\"1\" class=\"dataframe\">\n",
       "  <thead>\n",
       "    <tr style=\"text-align: right;\">\n",
       "      <th></th>\n",
       "      <th>datum</th>\n",
       "      <th>M01AB</th>\n",
       "      <th>M01AE</th>\n",
       "      <th>N02BA</th>\n",
       "      <th>N02BE</th>\n",
       "      <th>N05B</th>\n",
       "      <th>N05C</th>\n",
       "      <th>R03</th>\n",
       "      <th>R06</th>\n",
       "      <th>Year</th>\n",
       "      <th>Month</th>\n",
       "      <th>Hour</th>\n",
       "      <th>Weekday Name</th>\n",
       "    </tr>\n",
       "  </thead>\n",
       "  <tbody>\n",
       "    <tr>\n",
       "      <th>0</th>\n",
       "      <td>1/2/2014</td>\n",
       "      <td>0.0</td>\n",
       "      <td>3.67</td>\n",
       "      <td>3.4</td>\n",
       "      <td>32.40</td>\n",
       "      <td>7.0</td>\n",
       "      <td>0.0</td>\n",
       "      <td>0.0</td>\n",
       "      <td>2.0</td>\n",
       "      <td>2014</td>\n",
       "      <td>1</td>\n",
       "      <td>248</td>\n",
       "      <td>Thursday</td>\n",
       "    </tr>\n",
       "    <tr>\n",
       "      <th>1</th>\n",
       "      <td>1/3/2014</td>\n",
       "      <td>8.0</td>\n",
       "      <td>4.00</td>\n",
       "      <td>4.4</td>\n",
       "      <td>50.60</td>\n",
       "      <td>16.0</td>\n",
       "      <td>0.0</td>\n",
       "      <td>20.0</td>\n",
       "      <td>4.0</td>\n",
       "      <td>2014</td>\n",
       "      <td>1</td>\n",
       "      <td>276</td>\n",
       "      <td>Friday</td>\n",
       "    </tr>\n",
       "    <tr>\n",
       "      <th>2</th>\n",
       "      <td>1/4/2014</td>\n",
       "      <td>2.0</td>\n",
       "      <td>1.00</td>\n",
       "      <td>6.5</td>\n",
       "      <td>61.85</td>\n",
       "      <td>10.0</td>\n",
       "      <td>0.0</td>\n",
       "      <td>9.0</td>\n",
       "      <td>1.0</td>\n",
       "      <td>2014</td>\n",
       "      <td>1</td>\n",
       "      <td>276</td>\n",
       "      <td>Saturday</td>\n",
       "    </tr>\n",
       "    <tr>\n",
       "      <th>3</th>\n",
       "      <td>1/5/2014</td>\n",
       "      <td>4.0</td>\n",
       "      <td>3.00</td>\n",
       "      <td>7.0</td>\n",
       "      <td>41.10</td>\n",
       "      <td>8.0</td>\n",
       "      <td>0.0</td>\n",
       "      <td>3.0</td>\n",
       "      <td>0.0</td>\n",
       "      <td>2014</td>\n",
       "      <td>1</td>\n",
       "      <td>276</td>\n",
       "      <td>Sunday</td>\n",
       "    </tr>\n",
       "    <tr>\n",
       "      <th>4</th>\n",
       "      <td>1/6/2014</td>\n",
       "      <td>5.0</td>\n",
       "      <td>1.00</td>\n",
       "      <td>4.5</td>\n",
       "      <td>21.70</td>\n",
       "      <td>16.0</td>\n",
       "      <td>2.0</td>\n",
       "      <td>6.0</td>\n",
       "      <td>2.0</td>\n",
       "      <td>2014</td>\n",
       "      <td>1</td>\n",
       "      <td>276</td>\n",
       "      <td>Monday</td>\n",
       "    </tr>\n",
       "  </tbody>\n",
       "</table>\n",
       "</div>"
      ],
      "text/plain": [
       "      datum  M01AB  M01AE  N02BA  N02BE  N05B  N05C   R03  R06  Year  Month  \\\n",
       "0  1/2/2014    0.0   3.67    3.4  32.40   7.0   0.0   0.0  2.0  2014      1   \n",
       "1  1/3/2014    8.0   4.00    4.4  50.60  16.0   0.0  20.0  4.0  2014      1   \n",
       "2  1/4/2014    2.0   1.00    6.5  61.85  10.0   0.0   9.0  1.0  2014      1   \n",
       "3  1/5/2014    4.0   3.00    7.0  41.10   8.0   0.0   3.0  0.0  2014      1   \n",
       "4  1/6/2014    5.0   1.00    4.5  21.70  16.0   2.0   6.0  2.0  2014      1   \n",
       "\n",
       "   Hour Weekday Name  \n",
       "0   248     Thursday  \n",
       "1   276       Friday  \n",
       "2   276     Saturday  \n",
       "3   276       Sunday  \n",
       "4   276       Monday  "
      ]
     },
     "execution_count": 14,
     "metadata": {},
     "output_type": "execute_result"
    }
   ],
   "source": [
    "df = pd.read_csv(\"D:/pharmaceutical-prediction/data/salesdaily.csv\")\n",
    "df.head()"
   ]
  },
  {
   "cell_type": "code",
   "execution_count": 15,
   "id": "15a6f0d4",
   "metadata": {},
   "outputs": [],
   "source": [
    "df = df.loc[df['datum'].str.contains('2017', flags=re.I, regex=True) & (df['Weekday Name'] == 'Monday')]\n"
   ]
  },
  {
   "cell_type": "code",
   "execution_count": 16,
   "id": "c4dc878b",
   "metadata": {},
   "outputs": [],
   "source": [
    "df = df.groupby(['Weekday Name'], as_index=False).sum()\n"
   ]
  },
  {
   "cell_type": "code",
   "execution_count": 17,
   "id": "8fc75e44",
   "metadata": {},
   "outputs": [],
   "source": [
    "df = df[['M01AB', 'M01AE', 'N02BA', 'N02BE', 'N05B', 'N05C', 'R03', 'R06']]\n",
    "result = df.sort_values(by=0, ascending=False, axis=1)"
   ]
  },
  {
   "cell_type": "code",
   "execution_count": 18,
   "id": "39557d28",
   "metadata": {},
   "outputs": [
    {
     "name": "stdout",
     "output_type": "stream",
     "text": [
      "The drug most often sold on Mondays in 2017 is N02BE\n",
      "with the volume of 1160.56\n"
     ]
    }
   ],
   "source": [
    "for field in result.columns.values[0:1]:\n",
    "    print('The drug most often sold on Mondays in 2017 is ' + str(field))\n",
    "    print('with the volume of ' + str(round(result[field].iloc[0], 2)))"
   ]
  },
  {
   "cell_type": "markdown",
   "id": "34199903",
   "metadata": {},
   "source": [
    "## What medicine sales may be in January 2020?"
   ]
  },
  {
   "cell_type": "code",
   "execution_count": 19,
   "id": "91cf59a2",
   "metadata": {},
   "outputs": [],
   "source": [
    "def scatterData(X_train, y_train, X_test, y_test, title):\n",
    "    plt.title('Prediction using ' + title)\n",
    "    plt.xlabel('Month sequence', fontsize=20)\n",
    "    plt.ylabel('Sales', fontsize=20)\n",
    "\n",
    "    # Use Matplotlib Scatter Plot\n",
    "    plt.scatter(X_train, y_train, color='blue', label='Training observation points')\n",
    "    plt.scatter(X_test, y_test, color='cyan', label='Testing observation points')"
   ]
  },
  {
   "cell_type": "markdown",
   "id": "7b0b2acb",
   "metadata": {},
   "source": [
    "\n",
    "Defining predict sales and display Linear Regression model function"
   ]
  },
  {
   "cell_type": "code",
   "execution_count": 20,
   "id": "3c5d79cb",
   "metadata": {},
   "outputs": [],
   "source": [
    "def predictLinearRegression(X_train, y_train, X_test, y_test):\n",
    "\n",
    "    y_train = y_train.reshape(-1, 1)\n",
    "    y_test = y_test.reshape(-1, 1)\n",
    "\n",
    "    scatterData(X_train, y_train, X_test, y_test, 'Linear Regression')\n",
    "\n",
    "    reg = linear_model.LinearRegression()\n",
    "    reg.fit(X_train, y_train)\n",
    "    plt.plot(X_train, reg.predict(X_train), color='red', label='Linear regressor')\n",
    "    plt.legend()\n",
    "    plt.show()\n",
    "\n",
    "    # LINEAR REGRESSION - Predict/Test model\n",
    "    y_predict_linear = reg.predict(X_test)\n",
    "\n",
    "    # LINEAR REGRESSION - Predict for January 2020\n",
    "    linear_predict = reg.predict([[predictFor]])\n",
    "    # linear_predict = reg.predict([[predictFor]])[0]\n",
    "\n",
    "    # LINEAR REGRESSION - Accuracy\n",
    "    accuracy = reg.score(X_train, y_train)\n",
    "\n",
    "    # LINEAR REGRESSION - Error\n",
    "    # error = round(np.mean((y_predict_linear-y_test)**2), 2)\n",
    "    \n",
    "    # Results\n",
    "    print('Linear Regression: ' + str(linear_predict) + ' (Accuracy: ' + str(round(accuracy*100)) + '%)')\n",
    "\n",
    "    return {'regressor':reg, 'values':linear_predict}"
   ]
  },
  {
   "cell_type": "code",
   "execution_count": 21,
   "id": "de396210",
   "metadata": {},
   "outputs": [],
   "source": [
    "def predictPolynomialRegression(X_train, y_train, X_test, y_test):\n",
    "\n",
    "    y_train = y_train.reshape(-1, 1)\n",
    "    y_test = y_test.reshape(-1, 1)\n",
    "\n",
    "    scatterData(X_train, y_train, X_test, y_test, 'Polynomial Regression')\n",
    "    \n",
    "    poly_reg = PolynomialFeatures(degree = 2)\n",
    "    X_poly = poly_reg.fit_transform(X_train)\n",
    "    poly_reg_model = linear_model.LinearRegression()\n",
    "    poly_reg_model.fit(X_poly, y_train)\n",
    "    plt.plot(X_train, poly_reg_model.predict(poly_reg.fit_transform(X_train)), color='green', label='Polynomial regressor')\n",
    "    plt.legend()\n",
    "    plt.show()\n",
    "\n",
    "    # Polynomial Regression - Predict/Test model\n",
    "    y_predict_polynomial = poly_reg_model.predict(X_poly)\n",
    "\n",
    "    # Polynomial Regression - Predict for January 2020\n",
    "    polynomial_predict = poly_reg_model.predict(poly_reg.fit_transform([[predictFor]]))\n",
    "\n",
    "    # Polynomial Regression - Accuracy\n",
    "    # X_poly_test = poly_reg.fit_transform(X_test)\n",
    "    accuracy = poly_reg_model.score(X_poly, y_train)\n",
    "\n",
    "    # Polynomial Regression - Error\n",
    "    # error = round(np.mean((y_predict_polynomial-y_train)**2), 2)\n",
    "\n",
    "    # Result\n",
    "    print('Polynomial Regression: ' + str(polynomial_predict) + ' (Accuracy: ' + str(round(accuracy*100)) + '%)')\n",
    "    return {'regressor':poly_reg_model, 'values':polynomial_predict}"
   ]
  },
  {
   "cell_type": "code",
   "execution_count": 22,
   "id": "6a042868",
   "metadata": {},
   "outputs": [],
   "source": [
    "def predictSVR(X_train, y_train, X_test, y_test):\n",
    "\n",
    "    y_train = y_train.reshape(-1, 1)\n",
    "    y_test = y_test.reshape(-1, 1)\n",
    "\n",
    "    scatterData(X_train, y_train, X_test, y_test, 'Simple Vector Regression (SVR)')\n",
    "\n",
    "    svr_regressor = SVR(kernel='rbf', gamma='auto')\n",
    "    svr_regressor.fit(X_train, y_train.ravel())\n",
    "\n",
    "    # plt.scatter(X_train, y_train, color='red', label='Actual observation points')\n",
    "    plt.plot(X_train, svr_regressor.predict(X_train), label='SVR regressor')\n",
    "    plt.legend()\n",
    "    plt.show()\n",
    "\n",
    "    # Simple Vector Regression (SVR) - Predict/Test model\n",
    "    y_predict_svr = svr_regressor.predict(X_test)\n",
    "\n",
    "    # Simple Vector Regression (SVR) - Predict for January 2020\n",
    "    svr_predict = svr_regressor.predict([[predictFor]])\n",
    "\n",
    "    # Simple Vector Regression (SVR) - Accuracy\n",
    "    accuracy = svr_regressor.score(X_train, y_train)\n",
    "\n",
    "    # Simple Vector Regression (SVR) - Error\n",
    "    # error = round(np.mean((y_predict_svr-y_train)**2), 2)\n",
    "    \n",
    "    # Result\n",
    "    print('Simple Vector Regression (SVR): ' + str(svr_predict) + ' (Accuracy: ' + str(round(accuracy*100)) + '%)')\n",
    "    return {'regressor':svr_regressor, 'values':svr_predict}"
   ]
  },
  {
   "cell_type": "code",
   "execution_count": 23,
   "id": "31ca8538",
   "metadata": {},
   "outputs": [],
   "source": [
    "product = 'N02BA'"
   ]
  },
  {
   "cell_type": "code",
   "execution_count": 24,
   "id": "7da5ac9f",
   "metadata": {},
   "outputs": [],
   "source": [
    "regResults = pd.DataFrame(columns=('Linear', 'Polynomial', 'SVR', 'Voting Regressor'), index=[product])\n"
   ]
  },
  {
   "cell_type": "code",
   "execution_count": 25,
   "id": "557ce44c",
   "metadata": {},
   "outputs": [],
   "source": [
    "rcParams['figure.figsize'] = 12, 8\n"
   ]
  },
  {
   "cell_type": "code",
   "execution_count": 27,
   "id": "dd545e73",
   "metadata": {},
   "outputs": [],
   "source": [
    "df = pd.read_csv(\"D:/pharmaceutical-prediction/data/salesmonthly.csv\")\n"
   ]
  },
  {
   "cell_type": "code",
   "execution_count": 28,
   "id": "53b14765",
   "metadata": {},
   "outputs": [],
   "source": [
    "df = df.loc[df['datum'].str.contains(\"2014\") | df['datum'].str.contains(\"2015\") | df['datum'].str.contains(\"2016\") | df['datum'].str.contains(\"2017\") | df['datum'].str.contains(\"2018\") | df['datum'].str.contains(\"2019\")]\n",
    "df = df.reset_index()"
   ]
  },
  {
   "cell_type": "code",
   "execution_count": 29,
   "id": "a4121103",
   "metadata": {},
   "outputs": [
    {
     "data": {
      "text/html": [
       "<div>\n",
       "<style scoped>\n",
       "    .dataframe tbody tr th:only-of-type {\n",
       "        vertical-align: middle;\n",
       "    }\n",
       "\n",
       "    .dataframe tbody tr th {\n",
       "        vertical-align: top;\n",
       "    }\n",
       "\n",
       "    .dataframe thead th {\n",
       "        text-align: right;\n",
       "    }\n",
       "</style>\n",
       "<table border=\"1\" class=\"dataframe\">\n",
       "  <thead>\n",
       "    <tr style=\"text-align: right;\">\n",
       "      <th></th>\n",
       "      <th>index</th>\n",
       "      <th>datum</th>\n",
       "      <th>M01AB</th>\n",
       "      <th>M01AE</th>\n",
       "      <th>N02BA</th>\n",
       "      <th>N02BE</th>\n",
       "      <th>N05B</th>\n",
       "      <th>N05C</th>\n",
       "      <th>R03</th>\n",
       "      <th>R06</th>\n",
       "    </tr>\n",
       "  </thead>\n",
       "  <tbody>\n",
       "    <tr>\n",
       "      <th>0</th>\n",
       "      <td>0</td>\n",
       "      <td>2014-01-31</td>\n",
       "      <td>127.69</td>\n",
       "      <td>99.090</td>\n",
       "      <td>152.100</td>\n",
       "      <td>878.030</td>\n",
       "      <td>354.0</td>\n",
       "      <td>50.0</td>\n",
       "      <td>112.0</td>\n",
       "      <td>48.20</td>\n",
       "    </tr>\n",
       "    <tr>\n",
       "      <th>1</th>\n",
       "      <td>1</td>\n",
       "      <td>2014-02-28</td>\n",
       "      <td>133.32</td>\n",
       "      <td>126.050</td>\n",
       "      <td>177.000</td>\n",
       "      <td>1001.900</td>\n",
       "      <td>347.0</td>\n",
       "      <td>31.0</td>\n",
       "      <td>122.0</td>\n",
       "      <td>36.20</td>\n",
       "    </tr>\n",
       "    <tr>\n",
       "      <th>2</th>\n",
       "      <td>2</td>\n",
       "      <td>2014-03-31</td>\n",
       "      <td>137.44</td>\n",
       "      <td>92.950</td>\n",
       "      <td>147.655</td>\n",
       "      <td>779.275</td>\n",
       "      <td>232.0</td>\n",
       "      <td>20.0</td>\n",
       "      <td>112.0</td>\n",
       "      <td>85.40</td>\n",
       "    </tr>\n",
       "    <tr>\n",
       "      <th>3</th>\n",
       "      <td>3</td>\n",
       "      <td>2014-04-30</td>\n",
       "      <td>113.10</td>\n",
       "      <td>89.475</td>\n",
       "      <td>130.900</td>\n",
       "      <td>698.500</td>\n",
       "      <td>209.0</td>\n",
       "      <td>18.0</td>\n",
       "      <td>97.0</td>\n",
       "      <td>73.70</td>\n",
       "    </tr>\n",
       "    <tr>\n",
       "      <th>4</th>\n",
       "      <td>4</td>\n",
       "      <td>2014-05-31</td>\n",
       "      <td>101.79</td>\n",
       "      <td>119.933</td>\n",
       "      <td>132.100</td>\n",
       "      <td>628.780</td>\n",
       "      <td>270.0</td>\n",
       "      <td>23.0</td>\n",
       "      <td>107.0</td>\n",
       "      <td>123.70</td>\n",
       "    </tr>\n",
       "    <tr>\n",
       "      <th>...</th>\n",
       "      <td>...</td>\n",
       "      <td>...</td>\n",
       "      <td>...</td>\n",
       "      <td>...</td>\n",
       "      <td>...</td>\n",
       "      <td>...</td>\n",
       "      <td>...</td>\n",
       "      <td>...</td>\n",
       "      <td>...</td>\n",
       "      <td>...</td>\n",
       "    </tr>\n",
       "    <tr>\n",
       "      <th>65</th>\n",
       "      <td>65</td>\n",
       "      <td>2019-06-30</td>\n",
       "      <td>151.54</td>\n",
       "      <td>101.627</td>\n",
       "      <td>103.200</td>\n",
       "      <td>610.000</td>\n",
       "      <td>193.0</td>\n",
       "      <td>25.0</td>\n",
       "      <td>142.0</td>\n",
       "      <td>156.04</td>\n",
       "    </tr>\n",
       "    <tr>\n",
       "      <th>66</th>\n",
       "      <td>66</td>\n",
       "      <td>2019-07-31</td>\n",
       "      <td>181.00</td>\n",
       "      <td>103.541</td>\n",
       "      <td>92.800</td>\n",
       "      <td>649.800</td>\n",
       "      <td>250.6</td>\n",
       "      <td>20.0</td>\n",
       "      <td>115.0</td>\n",
       "      <td>105.20</td>\n",
       "    </tr>\n",
       "    <tr>\n",
       "      <th>67</th>\n",
       "      <td>67</td>\n",
       "      <td>2019-08-31</td>\n",
       "      <td>181.91</td>\n",
       "      <td>88.269</td>\n",
       "      <td>84.200</td>\n",
       "      <td>518.100</td>\n",
       "      <td>237.0</td>\n",
       "      <td>26.0</td>\n",
       "      <td>145.0</td>\n",
       "      <td>97.30</td>\n",
       "    </tr>\n",
       "    <tr>\n",
       "      <th>68</th>\n",
       "      <td>68</td>\n",
       "      <td>2019-09-30</td>\n",
       "      <td>161.07</td>\n",
       "      <td>111.437</td>\n",
       "      <td>93.500</td>\n",
       "      <td>984.480</td>\n",
       "      <td>227.8</td>\n",
       "      <td>16.0</td>\n",
       "      <td>161.0</td>\n",
       "      <td>109.10</td>\n",
       "    </tr>\n",
       "    <tr>\n",
       "      <th>69</th>\n",
       "      <td>69</td>\n",
       "      <td>2019-10-31</td>\n",
       "      <td>44.37</td>\n",
       "      <td>37.300</td>\n",
       "      <td>20.650</td>\n",
       "      <td>295.150</td>\n",
       "      <td>86.0</td>\n",
       "      <td>7.0</td>\n",
       "      <td>37.0</td>\n",
       "      <td>11.13</td>\n",
       "    </tr>\n",
       "  </tbody>\n",
       "</table>\n",
       "<p>70 rows × 10 columns</p>\n",
       "</div>"
      ],
      "text/plain": [
       "    index       datum   M01AB    M01AE    N02BA     N02BE   N05B  N05C    R03  \\\n",
       "0       0  2014-01-31  127.69   99.090  152.100   878.030  354.0  50.0  112.0   \n",
       "1       1  2014-02-28  133.32  126.050  177.000  1001.900  347.0  31.0  122.0   \n",
       "2       2  2014-03-31  137.44   92.950  147.655   779.275  232.0  20.0  112.0   \n",
       "3       3  2014-04-30  113.10   89.475  130.900   698.500  209.0  18.0   97.0   \n",
       "4       4  2014-05-31  101.79  119.933  132.100   628.780  270.0  23.0  107.0   \n",
       "..    ...         ...     ...      ...      ...       ...    ...   ...    ...   \n",
       "65     65  2019-06-30  151.54  101.627  103.200   610.000  193.0  25.0  142.0   \n",
       "66     66  2019-07-31  181.00  103.541   92.800   649.800  250.6  20.0  115.0   \n",
       "67     67  2019-08-31  181.91   88.269   84.200   518.100  237.0  26.0  145.0   \n",
       "68     68  2019-09-30  161.07  111.437   93.500   984.480  227.8  16.0  161.0   \n",
       "69     69  2019-10-31   44.37   37.300   20.650   295.150   86.0   7.0   37.0   \n",
       "\n",
       "       R06  \n",
       "0    48.20  \n",
       "1    36.20  \n",
       "2    85.40  \n",
       "3    73.70  \n",
       "4   123.70  \n",
       "..     ...  \n",
       "65  156.04  \n",
       "66  105.20  \n",
       "67   97.30  \n",
       "68  109.10  \n",
       "69   11.13  \n",
       "\n",
       "[70 rows x 10 columns]"
      ]
     },
     "execution_count": 29,
     "metadata": {},
     "output_type": "execute_result"
    }
   ],
   "source": [
    "df"
   ]
  },
  {
   "cell_type": "code",
   "execution_count": 30,
   "id": "529c0df9",
   "metadata": {},
   "outputs": [],
   "source": [
    "df['datumNumber'] = 1\n",
    "for index, row in df.iterrows():\n",
    "    df.loc[index, 'datumNumber'] = index+1"
   ]
  },
  {
   "cell_type": "code",
   "execution_count": 31,
   "id": "0cc93fd0",
   "metadata": {},
   "outputs": [],
   "source": [
    "# the first and the last available month is quite low which may indicate that it might be incomplete\n",
    "# and skewing results so we're dropping it\n",
    "df.drop(df.head(1).index,inplace=True)\n",
    "df.drop(df.tail(1).index,inplace=True)"
   ]
  },
  {
   "cell_type": "code",
   "execution_count": 32,
   "id": "e9da06f2",
   "metadata": {},
   "outputs": [],
   "source": [
    "df = df[df[product] != 0]"
   ]
  },
  {
   "cell_type": "code",
   "execution_count": 33,
   "id": "b2f691d5",
   "metadata": {},
   "outputs": [
    {
     "data": {
      "text/html": [
       "<div>\n",
       "<style scoped>\n",
       "    .dataframe tbody tr th:only-of-type {\n",
       "        vertical-align: middle;\n",
       "    }\n",
       "\n",
       "    .dataframe tbody tr th {\n",
       "        vertical-align: top;\n",
       "    }\n",
       "\n",
       "    .dataframe thead th {\n",
       "        text-align: right;\n",
       "    }\n",
       "</style>\n",
       "<table border=\"1\" class=\"dataframe\">\n",
       "  <thead>\n",
       "    <tr style=\"text-align: right;\">\n",
       "      <th></th>\n",
       "      <th>index</th>\n",
       "      <th>datum</th>\n",
       "      <th>M01AB</th>\n",
       "      <th>M01AE</th>\n",
       "      <th>N02BA</th>\n",
       "      <th>N02BE</th>\n",
       "      <th>N05B</th>\n",
       "      <th>N05C</th>\n",
       "      <th>R03</th>\n",
       "      <th>R06</th>\n",
       "      <th>datumNumber</th>\n",
       "    </tr>\n",
       "  </thead>\n",
       "  <tbody>\n",
       "    <tr>\n",
       "      <th>1</th>\n",
       "      <td>1</td>\n",
       "      <td>2014-02-28</td>\n",
       "      <td>133.32</td>\n",
       "      <td>126.050</td>\n",
       "      <td>177.000</td>\n",
       "      <td>1001.900</td>\n",
       "      <td>347.0</td>\n",
       "      <td>31.0</td>\n",
       "      <td>122.0</td>\n",
       "      <td>36.2</td>\n",
       "      <td>2</td>\n",
       "    </tr>\n",
       "    <tr>\n",
       "      <th>2</th>\n",
       "      <td>2</td>\n",
       "      <td>2014-03-31</td>\n",
       "      <td>137.44</td>\n",
       "      <td>92.950</td>\n",
       "      <td>147.655</td>\n",
       "      <td>779.275</td>\n",
       "      <td>232.0</td>\n",
       "      <td>20.0</td>\n",
       "      <td>112.0</td>\n",
       "      <td>85.4</td>\n",
       "      <td>3</td>\n",
       "    </tr>\n",
       "    <tr>\n",
       "      <th>3</th>\n",
       "      <td>3</td>\n",
       "      <td>2014-04-30</td>\n",
       "      <td>113.10</td>\n",
       "      <td>89.475</td>\n",
       "      <td>130.900</td>\n",
       "      <td>698.500</td>\n",
       "      <td>209.0</td>\n",
       "      <td>18.0</td>\n",
       "      <td>97.0</td>\n",
       "      <td>73.7</td>\n",
       "      <td>4</td>\n",
       "    </tr>\n",
       "    <tr>\n",
       "      <th>4</th>\n",
       "      <td>4</td>\n",
       "      <td>2014-05-31</td>\n",
       "      <td>101.79</td>\n",
       "      <td>119.933</td>\n",
       "      <td>132.100</td>\n",
       "      <td>628.780</td>\n",
       "      <td>270.0</td>\n",
       "      <td>23.0</td>\n",
       "      <td>107.0</td>\n",
       "      <td>123.7</td>\n",
       "      <td>5</td>\n",
       "    </tr>\n",
       "    <tr>\n",
       "      <th>5</th>\n",
       "      <td>5</td>\n",
       "      <td>2014-06-30</td>\n",
       "      <td>112.07</td>\n",
       "      <td>94.710</td>\n",
       "      <td>122.900</td>\n",
       "      <td>548.225</td>\n",
       "      <td>323.0</td>\n",
       "      <td>23.0</td>\n",
       "      <td>57.0</td>\n",
       "      <td>109.3</td>\n",
       "      <td>6</td>\n",
       "    </tr>\n",
       "  </tbody>\n",
       "</table>\n",
       "</div>"
      ],
      "text/plain": [
       "   index       datum   M01AB    M01AE    N02BA     N02BE   N05B  N05C    R03  \\\n",
       "1      1  2014-02-28  133.32  126.050  177.000  1001.900  347.0  31.0  122.0   \n",
       "2      2  2014-03-31  137.44   92.950  147.655   779.275  232.0  20.0  112.0   \n",
       "3      3  2014-04-30  113.10   89.475  130.900   698.500  209.0  18.0   97.0   \n",
       "4      4  2014-05-31  101.79  119.933  132.100   628.780  270.0  23.0  107.0   \n",
       "5      5  2014-06-30  112.07   94.710  122.900   548.225  323.0  23.0   57.0   \n",
       "\n",
       "     R06  datumNumber  \n",
       "1   36.2            2  \n",
       "2   85.4            3  \n",
       "3   73.7            4  \n",
       "4  123.7            5  \n",
       "5  109.3            6  "
      ]
     },
     "execution_count": 33,
     "metadata": {},
     "output_type": "execute_result"
    }
   ],
   "source": [
    "df.head()"
   ]
  },
  {
   "cell_type": "code",
   "execution_count": 34,
   "id": "5f5afcc4",
   "metadata": {},
   "outputs": [
    {
     "name": "stdout",
     "output_type": "stream",
     "text": [
      "Predictions for the product N02BA sales in January 2020\n"
     ]
    }
   ],
   "source": [
    "predictFor = len(df)+5\n",
    "print('Predictions for the product ' + str(product) + ' sales in January 2020')\n"
   ]
  },
  {
   "cell_type": "code",
   "execution_count": 35,
   "id": "b3dbea70",
   "metadata": {},
   "outputs": [],
   "source": [
    "regValues = {}"
   ]
  },
  {
   "cell_type": "code",
   "execution_count": 36,
   "id": "798a5d30",
   "metadata": {},
   "outputs": [],
   "source": [
    "dfSplit = df[['datumNumber', product]]\n",
    "\n",
    "# We are going to keep 30% of the dataset in test dataset\n",
    "train, test = train_test_split(dfSplit, test_size=3/10, random_state=0)\n",
    "\n",
    "trainSorted = train.sort_values('datumNumber', ascending=True)\n",
    "testSorted = test.sort_values('datumNumber', ascending=True)\n",
    "\n",
    "X_train = trainSorted[['datumNumber']].values\n",
    "y_train = trainSorted[product].values\n",
    "X_test = testSorted[['datumNumber']].values\n",
    "y_test = testSorted[product].values"
   ]
  },
  {
   "cell_type": "code",
   "execution_count": 37,
   "id": "f82b9317",
   "metadata": {},
   "outputs": [
    {
     "data": {
      "image/png": "[encoded data removed]",
      "text/plain": [
       "<Figure size 864x576 with 1 Axes>"
      ]
     },
     "metadata": {
      "needs_background": "light"
     },
     "output_type": "display_data"
    },
    {
     "name": "stdout",
     "output_type": "stream",
     "text": [
      "Linear Regression: [[85.72]] (Accuracy: 58%)\n"
     ]
    }
   ],
   "source": [
    "# LINEAR REGRESSION\n",
    "linearResult = predictLinearRegression(X_train, y_train, X_test, y_test)\n",
    "reg = linearResult['regressor']\n",
    "regValues['Linear'] = round(linearResult['values'][0][0])"
   ]
  },
  {
   "cell_type": "code",
   "execution_count": 38,
   "id": "f6138d0e",
   "metadata": {},
   "outputs": [
    {
     "data": {
      "image/png": "[encoded data removed]",
      "text/plain": [
       "<Figure size 864x576 with 1 Axes>"
      ]
     },
     "metadata": {
      "needs_background": "light"
     },
     "output_type": "display_data"
    },
    {
     "name": "stdout",
     "output_type": "stream",
     "text": [
      "Polynomial Regression: [[82.59]] (Accuracy: 58%)\n"
     ]
    }
   ],
   "source": [
    "# POLYNOMIAL REGRESSION\n",
    "polynomialResult = predictPolynomialRegression(X_train, y_train, X_test, y_test)\n",
    "polynomial_regressor = polynomialResult['regressor']\n",
    "regValues['Polynomial'] = round(polynomialResult['values'][0][0])"
   ]
  },
  {
   "cell_type": "code",
   "execution_count": 39,
   "id": "639b872e",
   "metadata": {},
   "outputs": [
    {
     "data": {
      "image/png": "[encoded data removed]",
      "text/plain": [
       "<Figure size 864x576 with 1 Axes>"
      ]
     },
     "metadata": {
      "needs_background": "light"
     },
     "output_type": "display_data"
    },
    {
     "name": "stdout",
     "output_type": "stream",
     "text": [
      "Simple Vector Regression (SVR): [121.33] (Accuracy: 9%)\n"
     ]
    }
   ],
   "source": [
    "# SIMPLE VECTOR REGRESSION (SVR)\n",
    "svrResult = predictSVR(X_train, y_train, X_test, y_test)\n",
    "svr_regressor = svrResult['regressor']\n",
    "regValues['SVR'] = round(svrResult['values'][0])"
   ]
  },
  {
   "cell_type": "code",
   "execution_count": 40,
   "id": "ab350f63",
   "metadata": {},
   "outputs": [
    {
     "name": "stdout",
     "output_type": "stream",
     "text": [
      "Voting Regressor January 2020 predicted value: 98\n"
     ]
    }
   ],
   "source": [
    "vRegressor = VotingRegressor(estimators=[('reg', reg), ('polynomial_regressor', polynomial_regressor), ('svr_regressor', svr_regressor)])\n",
    "\n",
    "vRegressorRes = vRegressor.fit(X_train, y_train.ravel())\n",
    "\n",
    "# VotingRegressor - Predict for January 2020\n",
    "vRegressor_predict = vRegressor.predict([[predictFor]])\n",
    "regValues['Voting Regressor'] = round(vRegressor_predict[0])\n",
    "print('Voting Regressor January 2020 predicted value: ' + str(round(vRegressor_predict[0])))\n",
    "regResults.loc[product] = regValues"
   ]
  },
  {
   "cell_type": "code",
   "execution_count": 41,
   "id": "aadd0336",
   "metadata": {},
   "outputs": [
    {
     "data": {
      "text/html": [
       "<div>\n",
       "<style scoped>\n",
       "    .dataframe tbody tr th:only-of-type {\n",
       "        vertical-align: middle;\n",
       "    }\n",
       "\n",
       "    .dataframe tbody tr th {\n",
       "        vertical-align: top;\n",
       "    }\n",
       "\n",
       "    .dataframe thead th {\n",
       "        text-align: right;\n",
       "    }\n",
       "</style>\n",
       "<table border=\"1\" class=\"dataframe\">\n",
       "  <thead>\n",
       "    <tr style=\"text-align: right;\">\n",
       "      <th></th>\n",
       "      <th>Linear</th>\n",
       "      <th>Polynomial</th>\n",
       "      <th>SVR</th>\n",
       "      <th>Voting Regressor</th>\n",
       "    </tr>\n",
       "  </thead>\n",
       "  <tbody>\n",
       "    <tr>\n",
       "      <th>N02BA</th>\n",
       "      <td>86</td>\n",
       "      <td>83</td>\n",
       "      <td>121</td>\n",
       "      <td>98</td>\n",
       "    </tr>\n",
       "  </tbody>\n",
       "</table>\n",
       "</div>"
      ],
      "text/plain": [
       "      Linear Polynomial  SVR Voting Regressor\n",
       "N02BA     86         83  121               98"
      ]
     },
     "execution_count": 41,
     "metadata": {},
     "output_type": "execute_result"
    }
   ],
   "source": [
    "regResults"
   ]
  },
  {
   "cell_type": "code",
   "execution_count": null,
   "id": "5bfa3933",
   "metadata": {},
   "outputs": [],
   "source": []
  }
 ],
 "metadata": {
  "kernelspec": {
   "display_name": "Python 3",
   "language": "python",
   "name": "python3"
  },
  "language_info": {
   "codemirror_mode": {
    "name": "ipython",
    "version": 3
   },
   "file_extension": ".py",
   "mimetype": "text/x-python",
   "name": "python",
   "nbconvert_exporter": "python",
   "pygments_lexer": "ipython3",
   "version": "3.8.8"
  }
 },
 "nbformat": 4,
 "nbformat_minor": 5
}
